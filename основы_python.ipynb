{
  "cells": [
    {
      "cell_type": "markdown",
      "metadata": {
        "id": "M-DGa20PaHnu"
      },
      "source": [
        "#Задача 1\n",
        "Написать функцию на вход которой подается строка, состоящая из латинских букв.\n",
        "Функция должна вернуть количество гласных букв (a, e, i, o, u) в этой строке. Написать тесты для кода"
      ]
    },
    {
      "cell_type": "code",
      "execution_count": null,
      "metadata": {
        "id": "XvX8X_JJ6PCb"
      },
      "outputs": [],
      "source": [
        "def count_vowels(string):\n",
        "    counter = 0\n",
        "    vowels = [\"a\", \"e\", \"i\", \"o\", \"u\"]\n",
        "    for letter in string:\n",
        "        if letter.lower() in vowels:\n",
        "            counter += 1\n",
        "    return counter\n",
        "\n",
        "assert count_vowels(\"klmp\") == 0\n",
        "assert count_vowels(\"oooa\") == 4\n",
        "assert count_vowels(\"kafi\") == 2\n",
        "assert count_vowels(\"AoIm\") == 3"
      ]
    },
    {
      "cell_type": "markdown",
      "metadata": {
        "id": "t2ClV_Y0bbr6"
      },
      "source": [
        "# Задача 2\n",
        "Написать функцию на вход, которой подается строка. Функция должна вернуть true, если\n",
        "каждый символ в строке встречается только 1 раз, иначе должна вернуть false. Написать тесты для кода"
      ]
    },
    {
      "cell_type": "code",
      "execution_count": null,
      "metadata": {
        "id": "FppbECao6VIz"
      },
      "outputs": [],
      "source": [
        "def check_unique(string):\n",
        "    list = []\n",
        "    for letter in string:\n",
        "        if letter not in list:\n",
        "            list.append(letter)\n",
        "        else:\n",
        "            return False\n",
        "    return True\n",
        "\n",
        "assert check_unique(\"abcdefg\") == True\n",
        "assert check_unique(\"aa\") == False\n",
        "assert check_unique(\"abcdefgab\") == False"
      ]
    },
    {
      "cell_type": "markdown",
      "metadata": {
        "id": "udRiIK1cdt6E"
      },
      "source": [
        "# Задача 3\n",
        "Написать функцию, которая принимает положительное число и возвращает количество\n",
        "бит равных 1 в этом числе. Написать тесты для кода"
      ]
    },
    {
      "cell_type": "code",
      "execution_count": null,
      "metadata": {
        "id": "6tkfDJRz6dp_"
      },
      "outputs": [],
      "source": [
        "def count_one_bit(number):\n",
        "    counter = 0\n",
        "    if number > 0:\n",
        "        bin_form = bin(number)\n",
        "        for num in bin_form[2:]:\n",
        "            counter += int(num)\n",
        "        return counter\n",
        "\n",
        "assert count_one_bit(2) == 1\n",
        "assert count_one_bit(128) == 1\n",
        "assert count_one_bit(1023) == 10"
      ]
    },
    {
      "cell_type": "markdown",
      "metadata": {
        "id": "26dDUz-Ae17N"
      },
      "source": [
        "# Задача 4\n",
        "Написать функцию, которая принимает положительное число. Функция должна вернуть то,\n",
        "сколько раз необходимо перемножать цифры числа или результат перемножения, чтобы\n",
        "получилось число состоящее из одной цифры.\n",
        "Например, для входного числа:\n",
        "· 39 функция должна вернуть 3, так как 3*9=27 => 2*7=14 => 1*4=4\n",
        "· 4 функция должна вернуть 0, так как число уже состоит из одной цифры\n",
        "· 999 функция должна вернуть 4, так как 9*9*9=729 => 7*2*9=126 => 1*2*6=12 =>\n",
        "1*2=2. Написать тесты для кода"
      ]
    },
    {
      "cell_type": "code",
      "execution_count": null,
      "metadata": {
        "id": "BH1A_Mgi6i4G"
      },
      "outputs": [],
      "source": [
        "def magic(n):\n",
        "    counter = 0\n",
        "    while n > 9:\n",
        "        update_n = 1\n",
        "        for item in str(n):\n",
        "            update_n *= int(item)\n",
        "        n = update_n\n",
        "        counter += 1\n",
        "    return counter\n",
        "\n",
        "assert magic(2) == 0\n",
        "assert magic(10) == 1\n",
        "assert magic(8952) == 2"
      ]
    },
    {
      "cell_type": "markdown",
      "metadata": {
        "id": "0nS-kIa8g8vd"
      },
      "source": [
        "# Задача 5\n",
        "Написать функцию, которая принимает два целочисленных вектора одинаковой длины и\n",
        "возвращает среднеквадратическое отклонение двух векторов. Написать тесты для кода"
      ]
    },
    {
      "cell_type": "code",
      "execution_count": null,
      "metadata": {
        "id": "8iphx4LM6xbx"
      },
      "outputs": [],
      "source": [
        "import math\n",
        "\n",
        "def mse(pred, true):\n",
        "    mean = 0\n",
        "    for i in range(len(pred)):\n",
        "        mean += (true[i]-pred[i])**2\n",
        "    return round(math.sqrt(mean / len(pred)), 1)\n",
        "\n",
        "assert mse([1, 1, 1], [2, 2, 2]) == 1\n",
        "assert mse([1, 1, 1], [1, 1, 1]) == 0\n",
        "assert mse([1, 4, 5], [5, 1, 4]) == 2.9"
      ]
    },
    {
      "cell_type": "markdown",
      "metadata": {
        "id": "vpIPKL439zkw"
      },
      "source": [
        "# Задача 6\n",
        "Написать функцию, принимающая целое положительное число. Функция должна вернуть\n",
        "строку вида “(n1**p1)(n2**p2)…(nk**pk)” представляющая разложение числа на простые\n",
        "множители (если pi == 1, то выводить только ni).\n",
        "Например, для числа 86240 функция должна вернуть “(2**5)(5)(7**2)(11)”. Написать тесты для кода"
      ]
    },
    {
      "cell_type": "code",
      "execution_count": null,
      "metadata": {
        "id": "pFebmcZk94Jw"
      },
      "outputs": [],
      "source": [
        "def decompose_multipliers(number):\n",
        "    dict_multipliers = {}\n",
        "    for i in range(2, number + 1):\n",
        "        if number == 1:\n",
        "            break\n",
        "        while number % i == 0:\n",
        "            if i not in dict_multipliers:\n",
        "                dict_multipliers[i] = 0\n",
        "            dict_multipliers[i] += 1\n",
        "            number = number / i\n",
        "    result_str = \"\"\n",
        "    for item in dict_multipliers:\n",
        "        if dict_multipliers[item] > 1:\n",
        "            result_str += f\"({item}**{dict_multipliers[item]})\"\n",
        "        else:\n",
        "            result_str += f\"({item})\"\n",
        "    return result_str\n",
        "\n",
        "assert decompose_multipliers(2) == \"(2)\"\n",
        "assert decompose_multipliers(121) == \"(11**2)\"\n",
        "assert decompose_multipliers(3780) == \"(2**2)(3**3)(5)(7)\""
      ]
    },
    {
      "cell_type": "markdown",
      "metadata": {
        "id": "ps2s0BudX7A2"
      },
      "source": [
        "# Задача 7\n",
        "Написать функцию, принимающая целое число n, задающее количество кубиков. Функция\n",
        "должна определить, можно ли из данного кол-ва кубиков построить пирамиду, то есть\n",
        "можно ли представить число n как 1^2+2^2+3^2+…+k^2. Если можно, то функция должна\n",
        "вернуть k, иначе строку “It is impossible”. Написать тесты для кода"
      ]
    },
    {
      "cell_type": "code",
      "execution_count": null,
      "metadata": {
        "id": "3YPjEXxhX_YT"
      },
      "outputs": [],
      "source": [
        "def pyramid(number):\n",
        "    for k in range(1, number + 1):\n",
        "        if number >= k**2:\n",
        "            number -= k**2\n",
        "            if number == 0:\n",
        "                return k\n",
        "        else:\n",
        "            return \"It is imposible\"\n",
        "\n",
        "assert pyramid(8) == \"It is imposible\"\n",
        "assert pyramid(55) == 5\n",
        "assert pyramid(1) == 1"
      ]
    },
    {
      "cell_type": "markdown",
      "metadata": {
        "id": "KeKgmIdAQMEJ"
      },
      "source": [
        "# Задача 8\n",
        "Функция принимает на вход положительное число и определяет является ли оно сбалансированным, т.е. сумма цифр до средних равна сумме цифр после. Средними в случае нечетного числа цифр считать одну цифру, в случае четного - две средних. Написать тесты для кода"
      ]
    },
    {
      "cell_type": "code",
      "execution_count": null,
      "metadata": {
        "id": "gMAAqtqlQrZt"
      },
      "outputs": [],
      "source": [
        "def check_balance(number):\n",
        "    str_number = str(number)\n",
        "    sum = 0\n",
        "    if len(str_number) % 2 == 0:\n",
        "        half = int(len(str_number) / 2 - 1)\n",
        "    else:\n",
        "        half = int(len(str_number) / 2)\n",
        "    for i in range(half):\n",
        "        sum += int(str_number[i])\n",
        "        sum -= int(str_number[-i - 1])\n",
        "    return sum == 0\n",
        "\n",
        "assert check_balance(120321) == True\n",
        "assert check_balance(171) == True\n",
        "assert check_balance(151421) == False"
      ]
    }
  ],
  "metadata": {
    "colab": {
      "provenance": []
    },
    "kernelspec": {
      "display_name": "Python 3",
      "name": "python3"
    },
    "language_info": {
      "name": "python"
    }
  },
  "nbformat": 4,
  "nbformat_minor": 0
}
