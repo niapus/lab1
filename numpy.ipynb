{
  "cells": [
    {
      "cell_type": "markdown",
      "metadata": {
        "id": "vC84e9kzyxPy"
      },
      "source": [
        "<h1>Импорт библиотек"
      ]
    },
    {
      "cell_type": "code",
      "execution_count": 3,
      "metadata": {
        "id": "cgKeNegmQG5S"
      },
      "outputs": [],
      "source": [
        "import numpy as np\n",
        "import matplotlib.pyplot as plt"
      ]
    },
    {
      "cell_type": "markdown",
      "metadata": {
        "id": "qFM9uVU2x4Ls"
      },
      "source": [
        "<h1>Задача 1. Дан набор из $p$ матриц размерностью $(n, n)$ и $p$ векторов размерностью $(n, 1)$, найти сумму произведений матриц на векторы. Написать тесты для кода"
      ]
    },
    {
      "cell_type": "code",
      "execution_count": null,
      "metadata": {
        "id": "IAbUvEiYyWFF"
      },
      "outputs": [],
      "source": [
        "def sum_prod(X, V):\n",
        "    result = np.zeros((len(X[0]), 1))\n",
        "    for i in range(len(X)):\n",
        "        result = result + np.dot(X[i], V[i])\n",
        "    return result\n",
        "\n",
        "A = [np.matrix([[1,2],[1,1]]),\n",
        "     np.matrix([[5, 4], [3, 9]])]\n",
        "B = [np.matrix([[0], [0]]),\n",
        "     np.matrix([[0], [0]])]\n",
        "\n",
        "assert np.array_equal(sum_prod(A, B), np.zeros((2, 1)))\n",
        "\n",
        "C = [np.matrix([[-1, 2], [-5, 0]])]\n",
        "D = [np.matrix([[1], [0]])]\n",
        "assert np.array_equal(sum_prod(C, D), np.matrix([[-1], [-5]]))"
      ]
    },
    {
      "cell_type": "markdown",
      "metadata": {
        "id": "TKwPG4fIy2w4"
      },
      "source": [
        "<h1>Задача 2. Дана матрица M, напишите функцию, которая бинаризует матрицу по некоторому threshold (то есть, все значения большие threshold становятся равными 1, иначе 0). Напишите тесты для кода"
      ]
    },
    {
      "cell_type": "code",
      "execution_count": null,
      "metadata": {
        "id": "KQDNMgsjRNH7"
      },
      "outputs": [],
      "source": [
        "def binarize(M, threshold=0.5):\n",
        "    M[M > threshold] = 1\n",
        "    M[M <= threshold] = 0\n",
        "    return M\n",
        "\n",
        "assert np.array_equal(binarize(np.matrix([[-1, 2], [3, 4]])), np.matrix([[0, 1], [1, 1]]))\n",
        "assert np.array_equal(binarize(np.matrix([[-0.5, 0.5]])), np.matrix([[0, 0]]))"
      ]
    },
    {
      "cell_type": "markdown",
      "metadata": {
        "id": "IY5L-h-7zWhN"
      },
      "source": [
        "<h1>Задача 3. Напишите функцию, которая возвращает уникальные элементы из каждой строки матрицы. Напишите такую же функцию, но для столбцов. Напишите тесты для кода"
      ]
    },
    {
      "cell_type": "code",
      "execution_count": null,
      "metadata": {
        "id": "-8dEZhR0SBC-"
      },
      "outputs": [],
      "source": [
        "def unique_rows(mat):\n",
        "    result = []\n",
        "    for x in range(mat.shape[0]):\n",
        "        uniq_items = []\n",
        "        for y in range(mat.shape[1]):\n",
        "            if mat[x, y] not in uniq_items:\n",
        "                uniq_items.append(mat[x,y])\n",
        "                uniq_items.sort()\n",
        "        result.append(uniq_items)\n",
        "    return result\n",
        "\n",
        "assert unique_rows(np.matrix([[2, 2], [-5, 2]])) == [[2], [-5, 2]]\n",
        "assert unique_rows(np.matrix([[5, 5], [5, 5]])) == [[5], [5]]\n",
        "assert unique_rows(np.matrix([[5, 2, 5, 10], [5, 5, 9, 9]])) == [[2, 5, 10], [5, 9]]\n",
        "\n",
        "def unique_columns(mat):\n",
        "    result = []\n",
        "    for y in range(mat.shape[1]):\n",
        "        uniq_items = []\n",
        "        for x in range(mat.shape[0]):\n",
        "            if mat[x, y] not in uniq_items:\n",
        "                uniq_items.append(mat[x,y])\n",
        "                uniq_items.sort()\n",
        "        result.append(uniq_items)\n",
        "    return result\n",
        "\n",
        "assert unique_columns(np.matrix([[2, 2], [-5, 2]])) == [[-5, 2], [2]]\n",
        "assert unique_columns(np.matrix([[2, 2], [-5, 2], [2, 4]])) == [[-5, 2], [2, 4]]"
      ]
    },
    {
      "cell_type": "markdown",
      "metadata": {
        "id": "roYAlo4Jz-lH"
      },
      "source": [
        "<h1>Задача 4. Напишите функцию, которая заполняет матрицу с размерами $(m, n)$ случайными числами, распределенными по нормальному закону. Затем считает мат. ожидание и дисперсию для каждого из столбцов и строк, а также строит для каждой строки и столбца гистограмму значений (использовать функцию hist из модуля matplotlib.plot)"
      ]
    },
    {
      "cell_type": "code",
      "execution_count": null,
      "metadata": {
        "id": "nZK_71hMSQzv"
      },
      "outputs": [],
      "source": [
        "def process_normal_matrix(m, n):\n",
        "    norm_natrix = np.random.normal(0, 3, (m, n))\n",
        "    column_means = np.mean(norm_natrix, axis=0)\n",
        "    row_means = np.mean(norm_natrix, axis=1)\n",
        "    column_variance = np.var(norm_natrix, axis=0)\n",
        "    row_variance = np.var(norm_natrix, axis=1)\n",
        "    for x in range(norm_natrix.shape[0]):\n",
        "        plt.hist(norm_natrix[x])\n",
        "        plt.show()\n",
        "    for y in range(norm_natrix.shape[1]):\n",
        "        plt.hist(norm_natrix[y])\n",
        "        plt.show()\n",
        "    pass"
      ]
    },
    {
      "cell_type": "markdown",
      "metadata": {
        "id": "BDyATNdM0dJ2"
      },
      "source": [
        "<h1>Задача 5. Напишите функцию, которая заполняет матрицу $(m, n)$ в шахматном порядке заданными числами $a$ и $b$. Напишите тесты для кода"
      ]
    },
    {
      "cell_type": "code",
      "execution_count": null,
      "metadata": {
        "id": "RWNJYWQGecS6"
      },
      "outputs": [],
      "source": [
        "def chess(m, n, a, b):\n",
        "    mat = np.zeros((m, n))\n",
        "    for x in range(0, mat.shape[0], 2):\n",
        "        for y in range(0, mat.shape[1], 2):\n",
        "            mat[x,y] = a\n",
        "            if y < mat.shape[1] - 1:\n",
        "                mat[x, y + 1] = b\n",
        "                if x < mat.shape[0] - 1:\n",
        "                    mat[x + 1, y + 1] = a\n",
        "            if x < mat.shape[0] - 1:\n",
        "                mat[x + 1, y] = b\n",
        "    return mat\n",
        "\n",
        "assert np.array_equal(chess(2, 4, 0, 1), np.matrix([[0, 1, 0, 1], [1, 0, 1, 0]]))\n",
        "assert np.array_equal(chess(2, 1, 0, 1), np.matrix([[0], [1]]))\n",
        "assert np.array_equal(chess(1, 1, 1, 0), np.matrix([[1]]))"
      ]
    },
    {
      "cell_type": "markdown",
      "metadata": {
        "id": "-ymXLtTN0vB6"
      },
      "source": [
        "<h1>Задача 6. Напишите функцию, которая отрисовывает прямоугольник с заданными размерами (a, b) на изображении размера (m, n), цвет фона задайте в схеме RGB, как и цвет прямоугольника. Цвета также должны быть параметрами функции. Напишите аналогичную функцию но для овала с полуосями a и b. Напишите тесты для кода.\n",
        "Примечание: уравнение эллипса (границы овала) можно записать как:\n",
        "<h1>$\\frac{(x-x_0)^2}{a^2}+\\frac{(y-y_0)^2}{b^2}=1$"
      ]
    },
    {
      "cell_type": "code",
      "execution_count": 1,
      "metadata": {
        "id": "sNfl1t_kfOF4"
      },
      "outputs": [],
      "source": [
        "def draw_rectangle(a, b, m, n, rectangle_color, background_color):\n",
        "    fig, sub = plt.subplots()\n",
        "    sub.set_facecolor(background_color)\n",
        "    rec = plt.Rectangle(((m - a) / 2, (n - b) / 2), a, b, facecolor=rectangle_color)\n",
        "    sub.add_patch(rec)\n",
        "    sub.set_xlim(0, m)\n",
        "    sub.set_ylim(0, n)\n",
        "    sub.set_aspect('equal')\n",
        "    plt.show()\n",
        "    return (rec.get_width(), rec.get_height())\n",
        "\n",
        "\n",
        "def draw_ellipse(a, b, m, n, ellipse_color, background_color):\n",
        "    fig, sub = plt.subplots()\n",
        "    sub.set_facecolor(background_color)\n",
        "    angle = np.linspace(0, 2 * np.pi, 360)\n",
        "    x = (m / 2) + a * np.cos(angle)\n",
        "    y = (n / 2) + b * np.sin(angle)\n",
        "    plt.fill(x, y, color = ellipse_color)\n",
        "    sub.set_xlim(0, m)\n",
        "    sub.set_ylim(0, n)\n",
        "    sub.set_aspect('equal')\n",
        "    plt.show()\n",
        "    return(x, y)\n",
        "\n",
        "assert draw_rectangle(100, 50, 190, 80, (1, 1, 1), (0, 0, 0)) == (100, 50)\n",
        "assert draw_rectangle(0, 0, 190, 80, (1, 1, 1), (0, 0, 0)) == (0, 0)"
      ]
    },
    {
      "cell_type": "markdown",
      "metadata": {
        "id": "S82c38oz244H"
      },
      "source": [
        "<h1>Задача 7. Дан некий временной ряд. Для данного ряда нужно найти его: математическое ожидание, дисперсию, СКО, найти все локальные максимумы и минимумы (локальный максимум - это точка, которая больше своих соседних точек, а локальный минимум - это точка, которая меньше своих соседей), а также вычислить для данного ряда другой ряд, получаемый методом скользящего среднего с размером окна $p$.\n",
        "<h1>Примечание: метод скользящего среднего подразумевает нахождение среднего из подмножетсва ряда размером $p$"
      ]
    },
    {
      "cell_type": "code",
      "execution_count": null,
      "metadata": {
        "id": "Zb9mIVge5MMt"
      },
      "outputs": [],
      "source": [
        "def mat_stats(data, step):\n",
        "    mean = np.average(data)\n",
        "    print(f\"Математическое ожидание - {mean}\")\n",
        "    var = np.var(data)\n",
        "    print(f\"Дисперсия - {var}\")\n",
        "    std = np.std(data)\n",
        "    print(f\"СКО - {std}\")\n",
        "    local_max = {}\n",
        "    local_min = {}\n",
        "    for i in range(1, len(data) - 1):\n",
        "        if data[i] > data[i - 1] and data[i] > data[i + 1]:\n",
        "            local_max[i] = data[i]\n",
        "        elif data[i] < data[i - 1] and data[i] < data[i + 1]:\n",
        "            local_min[i] = data[i]\n",
        "    print(f\"Локальные максимумы - {local_max}\")\n",
        "    print(f\"Локальные минимумы - {local_min}\")\n",
        "    new_data = []\n",
        "    for elem in range (len(data) - step):\n",
        "        step_data = []\n",
        "        for k in range(step + 1):\n",
        "            step_data.append(data[elem + k])\n",
        "        new_data.append(np.mean(step_data))\n",
        "    print(f\"Ряд, полученный методом скользящего среднего с окном {step} - {new_data}\")"
      ]
    },
    {
      "cell_type": "markdown",
      "metadata": {
        "id": "jPkylmOX5O9n"
      },
      "source": [
        "<h1> Задача 8. Дан некоторый вектор с целочисленными метками классов, напишите функцию, которая выполняет one-hot-encoding для данного вектора\n",
        "<h1> One-hot-encoding - представление, в котором на месте метки некоторого класса стоит 1, в остальных позициях стоит 0. Например для вектора [0, 2, 3, 0] one-hot-encoding выглядит как: [[1, 0, 0, 0], [0, 0, 1, 0], [0, 0, 0, 1], [1, 0, 0, 0]]"
      ]
    },
    {
      "cell_type": "code",
      "execution_count": null,
      "metadata": {
        "id": "Y-jlnZvw56lD"
      },
      "outputs": [],
      "source": [
        "def one_hot_encoding(vector):\n",
        "    result = np.zeros((len(vector), len(vector)))\n",
        "    count = 0\n",
        "    for pos in vector:\n",
        "        result[count, pos] = 1\n",
        "        count += 1\n",
        "    return result\n"
      ]
    }
  ],
  "metadata": {
    "colab": {
      "provenance": []
    },
    "kernelspec": {
      "display_name": "Python 3",
      "name": "python3"
    },
    "language_info": {
      "name": "python"
    }
  },
  "nbformat": 4,
  "nbformat_minor": 0
}
